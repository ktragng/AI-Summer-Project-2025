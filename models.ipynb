{
 "cells": [
  {
   "cell_type": "markdown",
   "id": "f5add494",
   "metadata": {},
   "source": [
    "# Defined the model"
   ]
  },
  {
   "cell_type": "code",
   "execution_count": 1,
   "id": "255a8d3f",
   "metadata": {},
   "outputs": [],
   "source": [
    "import torch\n",
    "import torch.nn as nn\n",
    "\n",
    "class MLP(nn.Module):\n",
    "    def __init__(self, input_size, hidden_size, output_size, num_layers):\n",
    "        super(MLP, self).__init__()\n",
    "        layers = [nn.Linear(input_size, hidden_size), nn.ReLU()]\n",
    "        for _ in range(num_layers - 1):\n",
    "            layers.append(nn.Linear(hidden_size, hidden_size))\n",
    "            layers.append(nn.ReLU())\n",
    "        layers.append(nn.Linear(hidden_size, output_size))\n",
    "        self.network = nn.Sequential(*layers)\n",
    "\n",
    "    def forward(self, x):\n",
    "        return self.network(x)"
   ]
  },
  {
   "cell_type": "code",
   "execution_count": 2,
   "id": "1bb69cc6",
   "metadata": {},
   "outputs": [
    {
     "name": "stdout",
     "output_type": "stream",
     "text": [
      "tensor([[ 0.0050, -0.0040,  0.0423,  0.0034, -0.0156,  0.0745, -0.0224,  0.0519,\n",
      "          0.0624,  0.0015, -0.0329,  0.0334,  0.0453, -0.0052,  0.0237, -0.0336,\n",
      "          0.0279,  0.0869,  0.0472,  0.0602, -0.0537, -0.0458, -0.0439,  0.0099,\n",
      "         -0.0476, -0.0374, -0.0012, -0.0093,  0.0200,  0.0359, -0.0043, -0.0044,\n",
      "          0.0654,  0.0250, -0.0319, -0.0491, -0.0202, -0.0198,  0.0104, -0.0177,\n",
      "         -0.0314, -0.0605, -0.0163, -0.0198,  0.0086, -0.0102,  0.0054, -0.0130,\n",
      "          0.0522,  0.0267, -0.0290,  0.0001, -0.0479, -0.0420, -0.0515,  0.0466,\n",
      "          0.0401,  0.0008, -0.0765, -0.0303, -0.0483,  0.0001, -0.0512, -0.0166,\n",
      "         -0.0476, -0.0589, -0.0391,  0.0041,  0.0170, -0.0191, -0.0482,  0.0103,\n",
      "         -0.0692, -0.0455, -0.0141,  0.0134, -0.0367,  0.0209, -0.0073, -0.0293,\n",
      "          0.0084,  0.0078,  0.0209,  0.0183,  0.0430,  0.0799,  0.0680, -0.0251,\n",
      "         -0.0284,  0.0609,  0.0417,  0.0313, -0.0603, -0.0116,  0.0107,  0.0194,\n",
      "          0.0462]], grad_fn=<AddmmBackward0>)\n"
     ]
    }
   ],
   "source": [
    "model = MLP(input_size=10, hidden_size=256, output_size=97, num_layers=8)\n",
    "sample_input = torch.randn(1, 10)  \n",
    "output = model(sample_input)\n",
    "print(output)\n"
   ]
  },
  {
   "cell_type": "code",
   "execution_count": 3,
   "id": "4995b2a0",
   "metadata": {},
   "outputs": [
    {
     "name": "stdout",
     "output_type": "stream",
     "text": [
      "torch.Size([1, 97])\n"
     ]
    }
   ],
   "source": [
    "print(output.shape)\n"
   ]
  },
  {
   "cell_type": "code",
   "execution_count": 4,
   "id": "a43f7ce4",
   "metadata": {},
   "outputs": [
    {
     "name": "stdout",
     "output_type": "stream",
     "text": [
      "tensor([[0.0104, 0.0103, 0.0108, 0.0104, 0.0102, 0.0111, 0.0101, 0.0109, 0.0110,\n",
      "         0.0103, 0.0100, 0.0107, 0.0108, 0.0103, 0.0106, 0.0100, 0.0106, 0.0113,\n",
      "         0.0108, 0.0110, 0.0098, 0.0099, 0.0099, 0.0104, 0.0098, 0.0099, 0.0103,\n",
      "         0.0102, 0.0105, 0.0107, 0.0103, 0.0103, 0.0110, 0.0106, 0.0100, 0.0098,\n",
      "         0.0101, 0.0101, 0.0104, 0.0101, 0.0100, 0.0097, 0.0102, 0.0101, 0.0104,\n",
      "         0.0102, 0.0104, 0.0102, 0.0109, 0.0106, 0.0100, 0.0103, 0.0098, 0.0099,\n",
      "         0.0098, 0.0108, 0.0107, 0.0103, 0.0096, 0.0100, 0.0098, 0.0103, 0.0098,\n",
      "         0.0101, 0.0098, 0.0097, 0.0099, 0.0104, 0.0105, 0.0101, 0.0098, 0.0104,\n",
      "         0.0096, 0.0099, 0.0102, 0.0105, 0.0099, 0.0105, 0.0102, 0.0100, 0.0104,\n",
      "         0.0104, 0.0105, 0.0105, 0.0108, 0.0112, 0.0110, 0.0101, 0.0100, 0.0110,\n",
      "         0.0108, 0.0106, 0.0097, 0.0102, 0.0104, 0.0105, 0.0108]],\n",
      "       grad_fn=<SoftmaxBackward0>)\n"
     ]
    }
   ],
   "source": [
    "import torch.nn.functional as F\n",
    "print(F.softmax(output, dim=1))\n"
   ]
  },
  {
   "cell_type": "code",
   "execution_count": 5,
   "id": "3ad4941b",
   "metadata": {},
   "outputs": [
    {
     "name": "stdout",
     "output_type": "stream",
     "text": [
      "Loss after one step: 4.577897548675537\n"
     ]
    }
   ],
   "source": [
    "sample_input = torch.randn(1, 10)\n",
    "target = torch.tensor([1])  # Assume class 1 as target\n",
    "\n",
    "criterion = nn.CrossEntropyLoss()\n",
    "optimizer = torch.optim.Adam(model.parameters(), lr=0.001)\n",
    "\n",
    "optimizer.zero_grad()\n",
    "output = model(sample_input)\n",
    "loss = criterion(output, target)  # No need for unsqueeze()\n",
    "loss.backward()\n",
    "optimizer.step()\n",
    "\n",
    "print(\"Loss after one step:\", loss.item())\n"
   ]
  },
  {
   "cell_type": "code",
   "execution_count": 6,
   "id": "e6df144b",
   "metadata": {},
   "outputs": [
    {
     "name": "stderr",
     "output_type": "stream",
     "text": [
      "[NbConvertApp] Converting notebook models.ipynb to script\n",
      "[NbConvertApp] Writing 1511 bytes to models.py\n",
      "[NbConvertApp] Converting notebook train.ipynb to script\n",
      "[NbConvertApp] Writing 6276 bytes to train.py\n",
      "[NbConvertApp] Converting notebook utils.ipynb to script\n",
      "[NbConvertApp] Writing 826 bytes to utils.py\n"
     ]
    }
   ],
   "source": [
    "!jupyter nbconvert --to script models.ipynb\n",
    "!jupyter nbconvert --to script train.ipynb\n",
    "!jupyter nbconvert --to script utils.ipynb\n"
   ]
  },
  {
   "cell_type": "code",
   "execution_count": null,
   "id": "c9e99533",
   "metadata": {},
   "outputs": [],
   "source": []
  },
  {
   "cell_type": "code",
   "execution_count": null,
   "id": "d81f073d",
   "metadata": {},
   "outputs": [],
   "source": []
  }
 ],
 "metadata": {
  "kernelspec": {
   "display_name": "Python 3 (ipykernel)",
   "language": "python",
   "name": "python3"
  },
  "language_info": {
   "codemirror_mode": {
    "name": "ipython",
    "version": 3
   },
   "file_extension": ".py",
   "mimetype": "text/x-python",
   "name": "python",
   "nbconvert_exporter": "python",
   "pygments_lexer": "ipython3",
   "version": "3.11.3"
  }
 },
 "nbformat": 4,
 "nbformat_minor": 5
}
