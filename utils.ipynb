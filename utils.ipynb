{
 "cells": [
  {
   "cell_type": "markdown",
   "id": "5842b9c2",
   "metadata": {},
   "source": [
    "# Prepared the dataset"
   ]
  },
  {
   "cell_type": "code",
   "execution_count": 1,
   "id": "3c47ab1d",
   "metadata": {},
   "outputs": [],
   "source": [
    "import torch\n",
    "import numpy as np\n",
    "from torch.utils.data import DataLoader, TensorDataset\n",
    "\n",
    "def generate_modular_data(num_samples=5000, mod_value=97):\n",
    "    X = np.random.randint(0, mod_value, size=(num_samples, 2))  # Two input numbers\n",
    "    y = (X[:, 0] * X[:, 1]) % mod_value  # Modular multiplication task\n",
    "    \n",
    "    # Normalize inputs to mean 0, variance 1\n",
    "    X = (X - np.mean(X, axis=0)) / np.std(X, axis=0)\n",
    "\n",
    "    return torch.tensor(X, dtype=torch.float32), torch.tensor(y, dtype=torch.long)\n",
    "\n",
    "\n",
    "# Function to create DataLoader\n",
    "def get_dataloader(batch_size=64):\n",
    "    X_train, y_train = generate_modular_data(num_samples=5000)\n",
    "    dataset = TensorDataset(X_train, y_train)\n",
    "    return DataLoader(dataset, batch_size=batch_size, shuffle=True)\n"
   ]
  },
  {
   "cell_type": "code",
   "execution_count": null,
   "id": "c2f423e9",
   "metadata": {},
   "outputs": [],
   "source": []
  }
 ],
 "metadata": {
  "kernelspec": {
   "display_name": "Python 3 (ipykernel)",
   "language": "python",
   "name": "python3"
  },
  "language_info": {
   "codemirror_mode": {
    "name": "ipython",
    "version": 3
   },
   "file_extension": ".py",
   "mimetype": "text/x-python",
   "name": "python",
   "nbconvert_exporter": "python",
   "pygments_lexer": "ipython3",
   "version": "3.11.3"
  }
 },
 "nbformat": 4,
 "nbformat_minor": 5
}
