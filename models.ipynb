{
 "cells": [
  {
   "cell_type": "markdown",
   "id": "f5add494",
   "metadata": {},
   "source": [
    "# Defined the model"
   ]
  },
  {
   "cell_type": "code",
   "execution_count": 1,
   "id": "255a8d3f",
   "metadata": {},
   "outputs": [],
   "source": [
    "import torch\n",
    "import torch.nn as nn\n",
    "\n",
    "class MLP(nn.Module):\n",
    "    def __init__(self, input_size, hidden_size, output_size, num_layers):\n",
    "        super(MLP, self).__init__()\n",
    "        layers = [nn.Linear(input_size, hidden_size), nn.ReLU()]\n",
    "        for _ in range(num_layers - 1):\n",
    "            layers.append(nn.Linear(hidden_size, hidden_size))\n",
    "            layers.append(nn.ReLU())\n",
    "        layers.append(nn.Linear(hidden_size, output_size))\n",
    "        self.network = nn.Sequential(*layers)\n",
    "\n",
    "    def forward(self, x):\n",
    "        return self.network(x)"
   ]
  },
  {
   "cell_type": "code",
   "execution_count": 2,
   "id": "1bb69cc6",
   "metadata": {},
   "outputs": [
    {
     "name": "stdout",
     "output_type": "stream",
     "text": [
      "tensor([[ 0.0353,  0.0568,  0.0020,  0.0078,  0.0643, -0.0054, -0.0188, -0.0138,\n",
      "          0.0348, -0.0178,  0.0016, -0.0197,  0.0134,  0.0418,  0.0549,  0.0062,\n",
      "         -0.0917, -0.0244, -0.0387,  0.0370,  0.0453,  0.0281, -0.0024, -0.0069,\n",
      "          0.0228,  0.0113,  0.0230, -0.0478, -0.0411, -0.0343, -0.0273,  0.0158,\n",
      "          0.0525, -0.0626, -0.0410,  0.0286,  0.0034,  0.0208,  0.0718, -0.0180,\n",
      "          0.0339, -0.0008,  0.0492,  0.0303,  0.0689,  0.0144, -0.0317,  0.0271,\n",
      "         -0.0574, -0.0385, -0.0117,  0.0140,  0.0024, -0.0536, -0.0284,  0.0580,\n",
      "         -0.0129,  0.0264,  0.0150,  0.0581,  0.0851, -0.0467,  0.0120,  0.0434,\n",
      "          0.0587, -0.0404, -0.0155, -0.0310,  0.0584,  0.0155,  0.0697, -0.0320,\n",
      "          0.0243,  0.0347,  0.0395, -0.0535, -0.0026,  0.0200,  0.0077,  0.0069,\n",
      "          0.0478,  0.0396, -0.0754,  0.0214,  0.0688,  0.0502, -0.0188,  0.0305,\n",
      "          0.0210,  0.0047, -0.0113, -0.0908, -0.0573,  0.0527,  0.0093, -0.0924,\n",
      "          0.0459]], grad_fn=<AddmmBackward0>)\n"
     ]
    }
   ],
   "source": [
    "model = MLP(input_size=10, hidden_size=256, output_size=97, num_layers=8)\n",
    "sample_input = torch.randn(1, 10)  \n",
    "output = model(sample_input)\n",
    "print(output)\n"
   ]
  },
  {
   "cell_type": "code",
   "execution_count": 3,
   "id": "4995b2a0",
   "metadata": {},
   "outputs": [
    {
     "name": "stdout",
     "output_type": "stream",
     "text": [
      "torch.Size([1, 97])\n"
     ]
    }
   ],
   "source": [
    "print(output.shape)\n"
   ]
  },
  {
   "cell_type": "code",
   "execution_count": 4,
   "id": "a43f7ce4",
   "metadata": {},
   "outputs": [
    {
     "name": "stdout",
     "output_type": "stream",
     "text": [
      "tensor([[0.0106, 0.0108, 0.0103, 0.0103, 0.0109, 0.0102, 0.0100, 0.0101, 0.0106,\n",
      "         0.0101, 0.0103, 0.0100, 0.0104, 0.0107, 0.0108, 0.0103, 0.0093, 0.0100,\n",
      "         0.0098, 0.0106, 0.0107, 0.0105, 0.0102, 0.0102, 0.0105, 0.0104, 0.0105,\n",
      "         0.0098, 0.0098, 0.0099, 0.0100, 0.0104, 0.0108, 0.0096, 0.0098, 0.0105,\n",
      "         0.0103, 0.0104, 0.0110, 0.0101, 0.0106, 0.0102, 0.0108, 0.0105, 0.0110,\n",
      "         0.0104, 0.0099, 0.0105, 0.0097, 0.0098, 0.0101, 0.0104, 0.0103, 0.0097,\n",
      "         0.0099, 0.0108, 0.0101, 0.0105, 0.0104, 0.0108, 0.0111, 0.0098, 0.0104,\n",
      "         0.0107, 0.0109, 0.0098, 0.0101, 0.0099, 0.0108, 0.0104, 0.0110, 0.0099,\n",
      "         0.0105, 0.0106, 0.0106, 0.0097, 0.0102, 0.0104, 0.0103, 0.0103, 0.0107,\n",
      "         0.0106, 0.0095, 0.0105, 0.0110, 0.0108, 0.0100, 0.0106, 0.0105, 0.0103,\n",
      "         0.0101, 0.0093, 0.0097, 0.0108, 0.0103, 0.0093, 0.0107]],\n",
      "       grad_fn=<SoftmaxBackward0>)\n"
     ]
    }
   ],
   "source": [
    "import torch.nn.functional as F\n",
    "print(F.softmax(output, dim=1))\n"
   ]
  },
  {
   "cell_type": "code",
   "execution_count": 5,
   "id": "3ad4941b",
   "metadata": {},
   "outputs": [
    {
     "name": "stdout",
     "output_type": "stream",
     "text": [
      "Loss after one step: 4.524849891662598\n"
     ]
    }
   ],
   "source": [
    "sample_input = torch.randn(1, 10)\n",
    "target = torch.tensor([1])  \n",
    "\n",
    "criterion = nn.CrossEntropyLoss()\n",
    "optimizer = torch.optim.Adam(model.parameters(), lr=0.001)\n",
    "\n",
    "optimizer.zero_grad()\n",
    "output = model(sample_input)\n",
    "loss = criterion(output, target)  \n",
    "loss.backward()\n",
    "optimizer.step()\n",
    "\n",
    "print(\"Loss after one step:\", loss.item())\n"
   ]
  },
  {
   "cell_type": "code",
   "execution_count": 6,
   "id": "e6df144b",
   "metadata": {},
   "outputs": [
    {
     "name": "stderr",
     "output_type": "stream",
     "text": [
      "[NbConvertApp] Converting notebook models.ipynb to script\n",
      "[NbConvertApp] Writing 1460 bytes to models.py\n",
      "[NbConvertApp] Converting notebook train.ipynb to script\n",
      "[NbConvertApp] Writing 3658 bytes to train.py\n",
      "[NbConvertApp] Converting notebook utils.ipynb to script\n",
      "[NbConvertApp] Writing 826 bytes to utils.py\n"
     ]
    }
   ],
   "source": [
    "!jupyter nbconvert --to script models.ipynb\n",
    "!jupyter nbconvert --to script train.ipynb\n",
    "!jupyter nbconvert --to script utils.ipynb\n"
   ]
  },
  {
   "cell_type": "code",
   "execution_count": null,
   "id": "c9e99533",
   "metadata": {},
   "outputs": [],
   "source": []
  },
  {
   "cell_type": "code",
   "execution_count": null,
   "id": "d81f073d",
   "metadata": {},
   "outputs": [],
   "source": []
  }
 ],
 "metadata": {
  "kernelspec": {
   "display_name": "Python 3 (ipykernel)",
   "language": "python",
   "name": "python3"
  },
  "language_info": {
   "codemirror_mode": {
    "name": "ipython",
    "version": 3
   },
   "file_extension": ".py",
   "mimetype": "text/x-python",
   "name": "python",
   "nbconvert_exporter": "python",
   "pygments_lexer": "ipython3",
   "version": "3.11.3"
  }
 },
 "nbformat": 4,
 "nbformat_minor": 5
}
